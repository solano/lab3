{
 "cells": [
  {
   "cell_type": "markdown",
   "metadata": {},
   "source": [
    "# Prática 6 \n",
    "## Analise dos dados\n",
    "### Tarefa 3"
   ]
  },
  {
   "cell_type": "code",
   "execution_count": 2,
   "metadata": {},
   "outputs": [],
   "source": [
    "import matplotlib.pyplot as plt\n",
    "import numpy as np\n",
    "from scipy.optimize import curve_fit\n",
    "from LabIFSC import M\n",
    "\n",
    "R = 98.7 #ohm, escala de 200 ohm\n",
    "C = 108.8e-9 #F, escala de 200 nF\n",
    "L = 45.3e-3 #H, escala de 200 mH\n",
    "erro_R = 0.5+0.8e-2*98.7\n",
    "erro_C = 2e-9+ 2.5e-2*abs(108.8e-9)\n",
    "erro_L = 3e-3+ 2.5e-2*abs(45.3e-3)\n",
    "f = 1/(2*np.pi*np.sqrt(L*C))"
   ]
  },
  {
   "cell_type": "code",
   "execution_count": null,
   "metadata": {},
   "outputs": [],
   "source": [
    "rms_LC = M((0.255, 0.001278))\n",
    "pico_LC = rms_LC*2**.5\n",
    "print(\"RMS: \", rms_LC)\n",
    "print(\"Tensão de pico: \", pico_LC)\n",
    "\n",
    "\n",
    "\n",
    "i_mold = lambda x, A, B, C : np.sqrt(1/(A+(x*B-1/(x*C))**2))\n",
    "popt, pcov = curve_fit(i_mold, x, Vr/R, p0=(1/0.025**2, 1e-3, 1e-9))\n",
    "i_fit = lambda x: i_mold(x, *popt)\n",
    "erro_i = (Vr*erro_R+R*erro_Vr)/R**2\n",
    "\n",
    "plt.figure(dpi=100)\n",
    "plt.title(\"Corrente no circuito\")\n",
    "plt.xlabel(\"Frequência (Hz)\")\n",
    "plt.ylabel(\"Corrente (A)\")\n",
    "plt.ticklabel_format(style=\"sci\", axis=\"both\", scilimits=(0,0))\n",
    "plt.errorbar(x,Vr/R,yerr = erro_i, xerr = erro_x, fmt='.', color=\"black\", label=\"Dados experimentais\")\n",
    "plt.plot(t, i_fit(t), color=\"red\", label=\"Fitting\")\n",
    "plt.legend(loc=0)\n",
    "plt.show()\n",
    "\n",
    "i0 = M((i_fit(M_f0.nominal), np.max(erro_i))) # Estimativa grosseira, justificativa: o erro é ainda muito menor que os outros na propagação que faremos\n",
    "M_rLC = pico_LC/i0\n",
    "print(\"Corrente no pico:\", i0)\n",
    "print(\"Resistência interna LC:\", M_rLC)\n",
    "print(\"Resistência nos cabos e na fonte:\", M_rmin-M_rLC-M_R)"
   ]
  },
  {
   "cell_type": "markdown",
   "metadata": {},
   "source": [
    "### Conclusão da Tarefa 3\n",
    "> Calculamos o ddp nos terminais do LC; fitamos a curva da corrente por frequencia para calcular a resistencia da parte LC  "
   ]
  }
 ],
 "metadata": {
  "kernelspec": {
   "display_name": "Python 3",
   "language": "python",
   "name": "python3"
  },
  "language_info": {
   "codemirror_mode": {
    "name": "ipython",
    "version": 3
   },
   "file_extension": ".py",
   "mimetype": "text/x-python",
   "name": "python",
   "nbconvert_exporter": "python",
   "pygments_lexer": "ipython3",
   "version": "3.6.5"
  }
 },
 "nbformat": 4,
 "nbformat_minor": 2
}
