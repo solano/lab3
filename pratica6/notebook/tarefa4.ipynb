{
 "cells": [
  {
   "cell_type": "markdown",
   "metadata": {},
   "source": [
    "# Prática 6 \n",
    "## Analise dos dados\n",
    "### Tarefa 4"
   ]
  },
  {
   "cell_type": "code",
   "execution_count": 2,
   "metadata": {},
   "outputs": [],
   "source": [
    "import matplotlib.pyplot as plt\n",
    "import numpy as np\n",
    "from scipy.optimize import curve_fit\n",
    "from LabIFSC import M\n",
    "\n",
    "R = 98.7 #ohm, escala de 200 ohm\n",
    "C = 108.8e-9 #F, escala de 200 nF\n",
    "L = 45.3e-3 #H, escala de 200 mH\n",
    "erro_R = 0.5+0.8e-2*98.7\n",
    "erro_C = 2e-9+ 2.5e-2*abs(108.8e-9)\n",
    "erro_L = 3e-3+ 2.5e-2*abs(45.3e-3)\n",
    "f = 1/(2*np.pi*np.sqrt(L*C))"
   ]
  },
  {
   "cell_type": "markdown",
   "metadata": {},
   "source": [
    "![](fotos/tarefa4_1.jpg)\n",
    "![](fotos/tarefa4_2.jpg)\n",
    "![](fotos/tarefa4_3.jpg)\n",
    "![](fotos/tarefa4_4.jpg)\n",
    "![](fotos/tarefa4_5.jpg)\n",
    "![](fotos/tarefa4_6.jpg)"
   ]
  },
  {
   "cell_type": "code",
   "execution_count": null,
   "metadata": {},
   "outputs": [],
   "source": [
    "data_4 = np.loadtxt(\"data/tarefa4.dat\").T\n",
    "l_4 = data_4[0]\n",
    "c_4 = data_4[1]\n",
    "f_4 = data_4[2]\n",
    "erro_l4 = 3e-3+ 2.5e-2*abs(l_4)\n",
    "erro_c4 = [0.01e-6, 0.1e-9, 0.1e-9, 0.01e-6, 0.1e-9,0.1e-9,0.01e-6,0.1e-9,0.1e-9] # ultima casa do display.\n",
    "erro_f4 = f_4*0.005           \n",
    "           \n",
    "y_4 = f_4\n",
    "x_4 = (l_4*c_4)**(-.5)\n",
    "erro_x4 = -1/2*(l_4*c_4)**(-3/2)*(erro_c4*l_4+erro_l4*c_4)\n",
    "lin_fit = lambda x,a,b:a*x+b\n",
    "\n",
    "from scipy import stats\n",
    "slope_4, intercept_4 , aosd,iasjd,iajdsis= stats.linregress(x_4, y_4)\n",
    "popt_4 = [slope_4, intercept_4]\n",
    "\n",
    "plt.figure(dpi=100)\n",
    "plt.title(r\"Relação linear da frequência com $(LC)^{-1/2}$\")\n",
    "plt.xlabel(r\"$(LC)^{-1/2}$ (rad)\")\n",
    "plt.ylabel(\"Frequência (Hz)\")\n",
    "plt.ticklabel_format(style=\"sci\", axis=\"both\", scilimits=(0,0))\n",
    "plt.errorbar(x_4, y_4, yerr=erro_f4, xerr=erro_x4, fmt='.', color=\"black\", label=\"Dados experimentais\")\n",
    "plt.plot(x_4, y_4, '.k')\n",
    "plt.plot(x_4, lin_fit(x_4, *popt_4))\n",
    "plt.legend(loc=0)\n",
    "plt.show()"
   ]
  },
  {
   "cell_type": "markdown",
   "metadata": {},
   "source": [
    "### Conclusão da tarefa 4\n",
    "> Para a mesma frequência de ressonância o modo XY mostrou uma reta com amplitudes diferentes.  \n",
    "> E encontramos a relação linear "
   ]
  }
 ],
 "metadata": {
  "kernelspec": {
   "display_name": "Python 3",
   "language": "python",
   "name": "python3"
  },
  "language_info": {
   "codemirror_mode": {
    "name": "ipython",
    "version": 3
   },
   "file_extension": ".py",
   "mimetype": "text/x-python",
   "name": "python",
   "nbconvert_exporter": "python",
   "pygments_lexer": "ipython3",
   "version": "3.6.5"
  }
 },
 "nbformat": 4,
 "nbformat_minor": 2
}
