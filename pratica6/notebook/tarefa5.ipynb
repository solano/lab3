{
 "cells": [
  {
   "cell_type": "markdown",
   "metadata": {},
   "source": [
    "# Prática 6 \n",
    "## Analise dos dados\n",
    "### Tarefa 4"
   ]
  },
  {
   "cell_type": "code",
   "execution_count": 2,
   "metadata": {},
   "outputs": [],
   "source": [
    "import matplotlib.pyplot as plt\n",
    "import numpy as np\n",
    "from scipy.optimize import curve_fit\n",
    "from LabIFSC import M\n",
    "\n",
    "R = 98.7 #ohm, escala de 200 ohm\n",
    "C = 108.8e-9 #F, escala de 200 nF\n",
    "L = 45.3e-3 #H, escala de 200 mH\n",
    "erro_R = 0.5+0.8e-2*98.7\n",
    "erro_C = 2e-9+ 2.5e-2*abs(108.8e-9)\n",
    "erro_L = 3e-3+ 2.5e-2*abs(45.3e-3)\n",
    "f = 1/(2*np.pi*np.sqrt(L*C))"
   ]
  },
  {
   "cell_type": "code",
   "execution_count": null,
   "metadata": {},
   "outputs": [],
   "source": [
    "L5 = L\n",
    "C5 = C\n",
    "data5 = np.loadtxt('data/tarefa5.dat').T\n",
    "R5 = data5[0]\n",
    "\n",
    "erro_R5 = 0.5+0.8e-2*abs(R5)\n",
    "erro_R5[-1] = 3+ 0.8e-2*abs(R5[-1])\n",
    "erro_R5x = erro_R5\n",
    "erro_R5 = erro_R5/R5 # erro do log\n",
    "\n",
    "escV0,quadV0 = data5[1],data5[2]\n",
    "escVr,quadVr = data5[3],data5[4]\n",
    "f1,f2 = data5[5],data5[6]\n",
    "V0 = escV0*quadV0\n",
    "Vr = escVr*quadVr\n",
    "I5 = Vr/R5\n",
    "Z5 = V0/I5\n",
    "\n",
    "erro_f1 = f1*0.005\n",
    "erro_f2 = f2*0.005\n",
    "\n",
    "dw = (f2-f1)*2*np.pi\n",
    "w0 = 1/np.sqrt(L5*C5)\n",
    "Q = w0/dw\n",
    "erro_w0 = -1/2*(L5*C5)**(-3/2)*(erro_C*L+erro_L*C)\n",
    "erro_dw = 2*np.pi*(f2+f1)*0.005\n",
    "erro_Q = (w0*erro_dw+dw*erro_w0)/(dw**2)\n",
    "erro_Q = (w0*erro_dw+dw*erro_w0)/(dw**2)/Q # erro do log\n",
    "slope_5, intercept_5,aosk,oaskd,ogim = stats.linregress(np.log(R5), np.log(Q))\n",
    "\n",
    "plt.figure(dpi=100)\n",
    "plt.title('Frequências onde $Z = 2 Z_{pico}$')\n",
    "plt.xlabel('Resistência ($\\\\Omega$)')\n",
    "plt.ticklabel_format(style=\"sci\", axis=\"both\", scilimits=(0,0))\n",
    "plt.ylabel('Frequência (Hz)')\n",
    "plt.errorbar(R5, f1, yerr=erro_f1, xerr=erro_R5x, fmt='.', color=\"black\", label=\"Dados experimentais\")\n",
    "plt.errorbar(R5, f2, yerr=erro_f2, xerr=erro_R5x, fmt='.', color=\"black\")\n",
    "\n",
    "plt.plot(R5,f1,'-',label=r'$f<f_0$')\n",
    "plt.plot(R5,f2,'-',label=r'$f>f_0$')\n",
    "plt.legend()\n",
    "plt.show()\n",
    "\n",
    "plt.figure(dpi=100, figsize=(10,3))\n",
    "plt.subplot(1,2,1)\n",
    "plt.title('Fator de qualidade (C = 108.8 nF, L = 45.3 mH)')\n",
    "plt.plot(np.log(R5), slope_5*np.log(R5)+intercept_5, color=\"red\", label=\"Fitting\")\n",
    "plt.errorbar(np.log(R5),np.log(Q),xerr=erro_R5,yerr=erro_Q, fmt='.', color=\"black\", label=\"Dados experimentais\")\n",
    "plt.ylabel(r' $\\log(\\omega_0/\\Delta\\omega)$')\n",
    "plt.xlabel('$\\log(\\Omega)$')\n",
    "plt.legend(loc=0)\n",
    "\n",
    "plt.subplot(1,2,2)\n",
    "plt.errorbar(R5,Q,xerr=erro_R5*R5,yerr=erro_Q*Q, fmt='.', color=\"black\", label=\"Dados experimentais\")\n",
    "plt.ylabel(r' $\\omega_0/\\Delta\\omega$')\n",
    "plt.xlabel('$\\Omega$')\n",
    "plt.legend(loc=0)\n",
    "\n",
    "\n",
    "\n",
    "plt.show()"
   ]
  },
  {
   "cell_type": "markdown",
   "metadata": {},
   "source": [
    "### Conclusão da tarefa 5\n",
    "> A princípio parece haver um ponto fora do esperado, tenho que analisar melhor"
   ]
  }
 ],
 "metadata": {
  "kernelspec": {
   "display_name": "Python 3",
   "language": "python",
   "name": "python3"
  },
  "language_info": {
   "codemirror_mode": {
    "name": "ipython",
    "version": 3
   },
   "file_extension": ".py",
   "mimetype": "text/x-python",
   "name": "python",
   "nbconvert_exporter": "python",
   "pygments_lexer": "ipython3",
   "version": "3.6.5"
  }
 },
 "nbformat": 4,
 "nbformat_minor": 2
}
